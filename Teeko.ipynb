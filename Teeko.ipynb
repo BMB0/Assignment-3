{
 "cells": [
  {
   "cell_type": "code",
   "execution_count": 138,
   "metadata": {},
   "outputs": [],
   "source": [
    "import numpy as np\n",
    "import random\n",
    "\n",
    "# 25 espacios conectados con lineas verticales, horizontales y diagonales\n",
    "# 4 fichas negras y 4 piezas rojas\n",
    "# Si un jugador forma una linea de 4 fichas Gana la partida (Horizontal, Diagonal y Vertical)\n",
    "# Si un jugador forma un cuadrado Gana la partida\n",
    "# Una vez asignadas las 4 piezas el jugador puede seleccionar una y moverla a una casilla sin asignacion\n",
    "\n",
    "#link#\n",
    "#los jugadores sortean quien comienza, por defecto comienza el negro y se alternan entre sí\n",
    "#############################################################primera fase#############################################################################################\n",
    "#En la primera parte los jugadores ponen sus marcadores, y cada marcador ocupa un campo, para el final de esta fase hay 8 fichas en el tablero, 4 negras y 4 rojas\n",
    "#Es posible ganar en la primera fase, si nadie gana, se pasa a la segunda fase\n",
    "\n",
    "#############################################################segunda fase#############################################################################################\n",
    "#No se puede saltar turnos\n",
    "#en cada turno se puede mover las fichas en un campo adyacente vacio, ya sea vertical, horizontal o diagonal\n",
    "\n",
    "##############################################################objective###############################################################################################\n",
    "#organizar las fichas hasta formar un Teeko, existen 44 Teekos distintos, las mismas se dividen en verticales, horizontales , diagonales y cuadradas\n",
    "\n",
    "\n",
    "move_dict = {\n",
    "  \"A\": 0,\n",
    "  \"B\": 1,\n",
    "  \"C\": 2,\n",
    "  \"D\": 3,\n",
    "  \"E\": 4,\n",
    "}\n",
    "\n",
    "\n",
    "class Teeko:\n",
    "    def __init__(self, player1, player2):\n",
    "        self.player1 = (player1, 1)  # Red Player\n",
    "        self.player2 = (player2, 2)  # Black Player\n",
    "        self.board = np.zeros((5,5))\n",
    "        self.rand_player()  \n",
    "    \n",
    "    def rand_player(self):\n",
    "        n_player = random.randint(1,2) #The red marks have the value 1 and the black marks have the value 2\n",
    "        if n_player == 1:\n",
    "            self.current_player = self.player1\n",
    "        else: self.current_player = self.player2\n",
    "    \n",
    "    def switch_player(self):\n",
    "        if self.current_player == self.player1:\n",
    "            self.current_player = self.player2\n",
    "        else: self.current_player = self.player1\n",
    "        \n",
    "    def move_translator(self, selected):       #A5, B6 etc.\n",
    "        yPos = selected[0]\n",
    "        xPos = int(selected[1])\n",
    "        return (move_dict[yPos], xPos)\n",
    "\n",
    "    def make_a_move(self, selected, move = None):       # selected recibe posiciones reales tupla, move recibe la dirección  # move\n",
    "        y, x = selected\n",
    "        valid_move = True\n",
    "        if move is not None:\n",
    "            self.board[selected[0]][selected[1]] = 0\n",
    "            for pos in move:\n",
    "                if pos == \"u\" and y > 0:\n",
    "                    y -= 1\n",
    "                elif pos == \"d\" and y < 4:\n",
    "                    y += 1\n",
    "                elif pos == \"r\" and x < 4:\n",
    "                    x += 1 \n",
    "                elif pos == \"l\" and x > 0: \n",
    "                    x -= 1\n",
    "                else: \n",
    "                    valid_move = False\n",
    "\n",
    "        if valid_move:\n",
    "            limit = x >=0 and x < 5 and y >= 0 and y < 5\n",
    "            if self.board[selected[0]][selected[1]] == 0 and limit:\n",
    "                valid_move = False\n",
    "                selected = (y, x)\n",
    "                self.board[selected[0]][selected[1]] = self.current_player[1]\n",
    "            else: print(\"Limites superados o posición ocupada\")\n",
    "        else: \n",
    "            print(\"Movimiento no válido, vuelva a intentarlo\")   \n",
    "            \n",
    "        return valid_move, selected\n",
    "        \n",
    "    def check_horizontal(self, y):\n",
    "        winner = False\n",
    "        count = 0\n",
    "        for row in self.board[y]:\n",
    "            if row == self.current_player[1]:\n",
    "                count += 1\n",
    "            else: count = 0\n",
    "            if count == 4:\n",
    "                winner = True\n",
    "        return winner\n",
    "\n",
    "\n",
    "    def check_vertical(self, x):\n",
    "        winner = False\n",
    "        count = 0\n",
    "        for col in range(5):\n",
    "            if self.board[col][x] == self.current_player[1]:\n",
    "                count += 1\n",
    "            else: count = 0\n",
    "            if count == 4:\n",
    "                winner = True\n",
    "        return winner\n",
    "    \n",
    "    def check_diagonal(self, matrix):\n",
    "        winner = False\n",
    "        count = 0\n",
    "        for k in range(3):\n",
    "            arr = np.diag(matrix, k - 1)\n",
    "            for x in arr:\n",
    "                if x == self.current_player[1]:\n",
    "                    count += 1\n",
    "                else: count = 0\n",
    "                if count == 4:\n",
    "                    winner = True\n",
    "            if winner:\n",
    "                break\n",
    "        return winner\n",
    "    \n",
    "    def check_square(self, x, y):\n",
    "        winner = False\n",
    "        count = 0\n",
    "        for i in range (2):\n",
    "            if y + 1 < 5 and x + i < 5:\n",
    "                if self.board[y][x + i] == self.current_player[1]:\n",
    "                    count += 1\n",
    "                if self.board[y + 1][x + i] == self.current_player[1]:\n",
    "                    count += 1\n",
    "        if count != 4:\n",
    "            count = 0\n",
    "            for i in range (2):\n",
    "                if y - 1 >= 0 and x + i < 5:\n",
    "                    if self.board[y][x + i] == self.current_player[1]:\n",
    "                        count += 1\n",
    "                    if self.board[y - 1][x + i] == self.current_player[1]:\n",
    "                        count += 1\n",
    "        if count != 4:\n",
    "            count = 0\n",
    "            for i in range (2):\n",
    "                if y + 1 < 5 and x - i >= 0:\n",
    "                    if self.board[y][x - i] == self.current_player[1]:\n",
    "                        count += 1\n",
    "                    if self.board[y + 1][x - i] == self.current_player[1]:\n",
    "                        count += 1\n",
    "        if count != 4:\n",
    "            count = 0\n",
    "            for i in range (2):\n",
    "                if y - 1 >= 0 and x - i >= 0:\n",
    "                    if self.board[y][x - i] == self.current_player[1]:\n",
    "                        count += 1\n",
    "                    if self.board[y - 1][x - i] == self.current_player[1]:\n",
    "                        count += 1\n",
    "        if count == 4:\n",
    "            winner = True\n",
    "        return winner\n",
    "\n",
    "    def check_winner(self, last_position): #0,1 2,0\n",
    "        y, x = last_position\n",
    "        count = 0\n",
    "        winner = False\n",
    "        winner = self.check_horizontal(y)\n",
    "        if not winner:\n",
    "            winner = self.check_vertical(x)\n",
    "        if not winner:\n",
    "            winner = self.check_diagonal(self.board)\n",
    "        if not winner:\n",
    "            winner = self.check_diagonal(np.fliplr(self.board))\n",
    "        if not winner:\n",
    "            winner = self.check_square(x, y)\n",
    "        return winner  \n"
   ]
  },
  {
   "cell_type": "code",
   "execution_count": 139,
   "metadata": {},
   "outputs": [
    {
     "name": "stdout",
     "output_type": "stream",
     "text": [
      "('Fernando', 1)\n",
      "[[0. 0. 0. 0. 0.]\n",
      " [0. 0. 0. 0. 0.]\n",
      " [0. 0. 0. 0. 0.]\n",
      " [0. 0. 0. 0. 0.]\n",
      " [0. 0. 0. 0. 0.]]\n"
     ]
    }
   ],
   "source": [
    "game = Teeko(\"Fernando\", \"Bruno\")\n",
    "print(game.current_player)\n",
    "print(game.board)"
   ]
  },
  {
   "cell_type": "code",
   "execution_count": 140,
   "metadata": {},
   "outputs": [
    {
     "name": "stdout",
     "output_type": "stream",
     "text": [
      "('Bruno', 2)\n",
      "(2, 5)\n"
     ]
    }
   ],
   "source": [
    "game.switch_player()\n",
    "print(game.current_player)\n",
    "print(game.move_translator(\"C5\"))"
   ]
  },
  {
   "cell_type": "code",
   "execution_count": 141,
   "metadata": {},
   "outputs": [
    {
     "name": "stdout",
     "output_type": "stream",
     "text": [
      "[[2. 0. 0. 0. 0.]\n",
      " [0. 0. 0. 0. 0.]\n",
      " [0. 0. 0. 0. 0.]\n",
      " [0. 0. 0. 0. 0.]\n",
      " [0. 0. 0. 0. 0.]]\n"
     ]
    }
   ],
   "source": [
    "game.make_a_move((0,0))\n",
    "print(game.board)"
   ]
  },
  {
   "cell_type": "code",
   "execution_count": 142,
   "metadata": {},
   "outputs": [
    {
     "name": "stdout",
     "output_type": "stream",
     "text": [
      "True\n",
      "[[2. 2. 0. 0. 0.]\n",
      " [2. 2. 0. 0. 0.]\n",
      " [0. 0. 0. 0. 0.]\n",
      " [0. 0. 0. 0. 0.]\n",
      " [0. 0. 0. 0. 0.]]\n"
     ]
    }
   ],
   "source": [
    "game.make_a_move((0,1))\n",
    "game.make_a_move((1,0))\n",
    "game.make_a_move((1,1))\n",
    "print(game.check_square(0,0))\n",
    "print(game.board)"
   ]
  },
  {
   "cell_type": "code",
   "execution_count": null,
   "metadata": {},
   "outputs": [],
   "source": []
  }
 ],
 "metadata": {
  "kernelspec": {
   "display_name": "Python 3.9.12 ('base')",
   "language": "python",
   "name": "python3"
  },
  "language_info": {
   "codemirror_mode": {
    "name": "ipython",
    "version": 3
   },
   "file_extension": ".py",
   "mimetype": "text/x-python",
   "name": "python",
   "nbconvert_exporter": "python",
   "pygments_lexer": "ipython3",
   "version": "3.9.12"
  },
  "orig_nbformat": 4,
  "vscode": {
   "interpreter": {
    "hash": "c6e64568de3197227809c62de7bc2c6cea9cd48e77d41565e21d768d4c963f8a"
   }
  }
 },
 "nbformat": 4,
 "nbformat_minor": 2
}
